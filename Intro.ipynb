{
 "cells": [
  {
   "cell_type": "code",
   "execution_count": 1,
   "metadata": {},
   "outputs": [],
   "source": [
    "import pandas as pd"
   ]
  },
  {
   "cell_type": "code",
   "execution_count": 3,
   "metadata": {},
   "outputs": [
    {
     "name": "stderr",
     "output_type": "stream",
     "text": [
      "C:\\Users\\tyabuta\\Anaconda3\\lib\\site-packages\\IPython\\core\\interactiveshell.py:3071: DtypeWarning: Columns (1,11,15) have mixed types.Specify dtype option on import or set low_memory=False.\n",
      "  has_raised = await self.run_ast_nodes(code_ast.body, cell_name,\n"
     ]
    },
    {
     "data": {
      "text/html": [
       "<div>\n",
       "<style scoped>\n",
       "    .dataframe tbody tr th:only-of-type {\n",
       "        vertical-align: middle;\n",
       "    }\n",
       "\n",
       "    .dataframe tbody tr th {\n",
       "        vertical-align: top;\n",
       "    }\n",
       "\n",
       "    .dataframe thead th {\n",
       "        text-align: right;\n",
       "    }\n",
       "</style>\n",
       "<table border=\"1\" class=\"dataframe\">\n",
       "  <thead>\n",
       "    <tr style=\"text-align: right;\">\n",
       "      <th></th>\n",
       "      <th>AudioMothCode</th>\n",
       "      <th>AudioMothID</th>\n",
       "      <th>SourceFile</th>\n",
       "      <th>Directory</th>\n",
       "      <th>FileName</th>\n",
       "      <th>FileSize</th>\n",
       "      <th>Encoding</th>\n",
       "      <th>NumChannels</th>\n",
       "      <th>SampleRate</th>\n",
       "      <th>AvgBytesPerSec</th>\n",
       "      <th>BitsPerSample</th>\n",
       "      <th>StartDateTime</th>\n",
       "      <th>Duration</th>\n",
       "      <th>Error</th>\n",
       "      <th>Comment</th>\n",
       "      <th>Artist</th>\n",
       "      <th>FileCreateDate</th>\n",
       "      <th>FileType</th>\n",
       "      <th>FileTypeExtension</th>\n",
       "      <th>MIMEType</th>\n",
       "    </tr>\n",
       "  </thead>\n",
       "  <tbody>\n",
       "    <tr>\n",
       "      <th>0</th>\n",
       "      <td>AM-1</td>\n",
       "      <td>243B1F055B2BEAB8</td>\n",
       "      <td>GRABADOR-SDZG-AM-1/20190616_145649.WAV</td>\n",
       "      <td>GRABADOR-SDZG-AM-1</td>\n",
       "      <td>20190616_145649.WAV</td>\n",
       "      <td>1802240</td>\n",
       "      <td>1.0</td>\n",
       "      <td>1.0</td>\n",
       "      <td>384000.0</td>\n",
       "      <td>768000.0</td>\n",
       "      <td>16.0</td>\n",
       "      <td>16.06.2019 14:56</td>\n",
       "      <td>2.346667</td>\n",
       "      <td>NaN</td>\n",
       "      <td>Recorded at 14:56:49 16/06/2019 (UTC) by Audio...</td>\n",
       "      <td>AudioMoth 243B1F055B2BEAB8</td>\n",
       "      <td>2019:12:20 03:13:11-08:00</td>\n",
       "      <td>WAV</td>\n",
       "      <td>WAV</td>\n",
       "      <td>audio/x-wav</td>\n",
       "    </tr>\n",
       "    <tr>\n",
       "      <th>1</th>\n",
       "      <td>AM-1</td>\n",
       "      <td>243B1F055B2BEAB8</td>\n",
       "      <td>GRABADOR-SDZG-AM-1/20190616_150000.WAV</td>\n",
       "      <td>GRABADOR-SDZG-AM-1</td>\n",
       "      <td>20190616_150000.WAV</td>\n",
       "      <td>46080360</td>\n",
       "      <td>1.0</td>\n",
       "      <td>1.0</td>\n",
       "      <td>384000.0</td>\n",
       "      <td>768000.0</td>\n",
       "      <td>16.0</td>\n",
       "      <td>16.06.2019 15:00</td>\n",
       "      <td>60.000469</td>\n",
       "      <td>NaN</td>\n",
       "      <td>Recorded at 15:00:00 16/06/2019 (UTC) by Audio...</td>\n",
       "      <td>AudioMoth 243B1F055B2BEAB8</td>\n",
       "      <td>2019:12:20 03:13:11-08:00</td>\n",
       "      <td>WAV</td>\n",
       "      <td>WAV</td>\n",
       "      <td>audio/x-wav</td>\n",
       "    </tr>\n",
       "    <tr>\n",
       "      <th>2</th>\n",
       "      <td>AM-1</td>\n",
       "      <td>243B1F055B2BEAB8</td>\n",
       "      <td>GRABADOR-SDZG-AM-1/20190616_151000.WAV</td>\n",
       "      <td>GRABADOR-SDZG-AM-1</td>\n",
       "      <td>20190616_151000.WAV</td>\n",
       "      <td>46080360</td>\n",
       "      <td>1.0</td>\n",
       "      <td>1.0</td>\n",
       "      <td>384000.0</td>\n",
       "      <td>768000.0</td>\n",
       "      <td>16.0</td>\n",
       "      <td>16.06.2019 15:10</td>\n",
       "      <td>60.000469</td>\n",
       "      <td>NaN</td>\n",
       "      <td>Recorded at 15:10:00 16/06/2019 (UTC) by Audio...</td>\n",
       "      <td>AudioMoth 243B1F055B2BEAB8</td>\n",
       "      <td>2019:12:20 03:13:13-08:00</td>\n",
       "      <td>WAV</td>\n",
       "      <td>WAV</td>\n",
       "      <td>audio/x-wav</td>\n",
       "    </tr>\n",
       "    <tr>\n",
       "      <th>3</th>\n",
       "      <td>AM-1</td>\n",
       "      <td>243B1F055B2BEAB8</td>\n",
       "      <td>GRABADOR-SDZG-AM-1/20190616_152000.WAV</td>\n",
       "      <td>GRABADOR-SDZG-AM-1</td>\n",
       "      <td>20190616_152000.WAV</td>\n",
       "      <td>46080360</td>\n",
       "      <td>1.0</td>\n",
       "      <td>1.0</td>\n",
       "      <td>384000.0</td>\n",
       "      <td>768000.0</td>\n",
       "      <td>16.0</td>\n",
       "      <td>16.06.2019 15:20</td>\n",
       "      <td>60.000469</td>\n",
       "      <td>NaN</td>\n",
       "      <td>Recorded at 15:20:00 16/06/2019 (UTC) by Audio...</td>\n",
       "      <td>AudioMoth 243B1F055B2BEAB8</td>\n",
       "      <td>2019:12:20 03:13:15-08:00</td>\n",
       "      <td>WAV</td>\n",
       "      <td>WAV</td>\n",
       "      <td>audio/x-wav</td>\n",
       "    </tr>\n",
       "    <tr>\n",
       "      <th>4</th>\n",
       "      <td>AM-1</td>\n",
       "      <td>243B1F055B2BEAB8</td>\n",
       "      <td>GRABADOR-SDZG-AM-1/20190616_153000.WAV</td>\n",
       "      <td>GRABADOR-SDZG-AM-1</td>\n",
       "      <td>20190616_153000.WAV</td>\n",
       "      <td>46080360</td>\n",
       "      <td>1.0</td>\n",
       "      <td>1.0</td>\n",
       "      <td>384000.0</td>\n",
       "      <td>768000.0</td>\n",
       "      <td>16.0</td>\n",
       "      <td>16.06.2019 15:30</td>\n",
       "      <td>60.000469</td>\n",
       "      <td>NaN</td>\n",
       "      <td>Recorded at 15:30:00 16/06/2019 (UTC) by Audio...</td>\n",
       "      <td>AudioMoth 243B1F055B2BEAB8</td>\n",
       "      <td>2019:12:20 03:13:16-08:00</td>\n",
       "      <td>WAV</td>\n",
       "      <td>WAV</td>\n",
       "      <td>audio/x-wav</td>\n",
       "    </tr>\n",
       "  </tbody>\n",
       "</table>\n",
       "</div>"
      ],
      "text/plain": [
       "  AudioMothCode       AudioMothID                              SourceFile  \\\n",
       "0          AM-1  243B1F055B2BEAB8  GRABADOR-SDZG-AM-1/20190616_145649.WAV   \n",
       "1          AM-1  243B1F055B2BEAB8  GRABADOR-SDZG-AM-1/20190616_150000.WAV   \n",
       "2          AM-1  243B1F055B2BEAB8  GRABADOR-SDZG-AM-1/20190616_151000.WAV   \n",
       "3          AM-1  243B1F055B2BEAB8  GRABADOR-SDZG-AM-1/20190616_152000.WAV   \n",
       "4          AM-1  243B1F055B2BEAB8  GRABADOR-SDZG-AM-1/20190616_153000.WAV   \n",
       "\n",
       "            Directory             FileName  FileSize  Encoding  NumChannels  \\\n",
       "0  GRABADOR-SDZG-AM-1  20190616_145649.WAV   1802240       1.0          1.0   \n",
       "1  GRABADOR-SDZG-AM-1  20190616_150000.WAV  46080360       1.0          1.0   \n",
       "2  GRABADOR-SDZG-AM-1  20190616_151000.WAV  46080360       1.0          1.0   \n",
       "3  GRABADOR-SDZG-AM-1  20190616_152000.WAV  46080360       1.0          1.0   \n",
       "4  GRABADOR-SDZG-AM-1  20190616_153000.WAV  46080360       1.0          1.0   \n",
       "\n",
       "   SampleRate  AvgBytesPerSec  BitsPerSample     StartDateTime   Duration  \\\n",
       "0    384000.0        768000.0           16.0  16.06.2019 14:56   2.346667   \n",
       "1    384000.0        768000.0           16.0  16.06.2019 15:00  60.000469   \n",
       "2    384000.0        768000.0           16.0  16.06.2019 15:10  60.000469   \n",
       "3    384000.0        768000.0           16.0  16.06.2019 15:20  60.000469   \n",
       "4    384000.0        768000.0           16.0  16.06.2019 15:30  60.000469   \n",
       "\n",
       "  Error                                            Comment  \\\n",
       "0   NaN  Recorded at 14:56:49 16/06/2019 (UTC) by Audio...   \n",
       "1   NaN  Recorded at 15:00:00 16/06/2019 (UTC) by Audio...   \n",
       "2   NaN  Recorded at 15:10:00 16/06/2019 (UTC) by Audio...   \n",
       "3   NaN  Recorded at 15:20:00 16/06/2019 (UTC) by Audio...   \n",
       "4   NaN  Recorded at 15:30:00 16/06/2019 (UTC) by Audio...   \n",
       "\n",
       "                       Artist             FileCreateDate FileType  \\\n",
       "0  AudioMoth 243B1F055B2BEAB8  2019:12:20 03:13:11-08:00      WAV   \n",
       "1  AudioMoth 243B1F055B2BEAB8  2019:12:20 03:13:11-08:00      WAV   \n",
       "2  AudioMoth 243B1F055B2BEAB8  2019:12:20 03:13:13-08:00      WAV   \n",
       "3  AudioMoth 243B1F055B2BEAB8  2019:12:20 03:13:15-08:00      WAV   \n",
       "4  AudioMoth 243B1F055B2BEAB8  2019:12:20 03:13:16-08:00      WAV   \n",
       "\n",
       "  FileTypeExtension     MIMEType  \n",
       "0               WAV  audio/x-wav  \n",
       "1               WAV  audio/x-wav  \n",
       "2               WAV  audio/x-wav  \n",
       "3               WAV  audio/x-wav  \n",
       "4               WAV  audio/x-wav  "
      ]
     },
     "execution_count": 3,
     "metadata": {},
     "output_type": "execute_result"
    }
   ],
   "source": [
    "df = pd.read_csv(\"Peru_2019_AudioMoth_Data_Full.csv\")\n",
    "df.head()"
   ]
  },
  {
   "cell_type": "markdown",
   "metadata": {},
   "source": [
    "- It has SourceFile section, but where are those files?\n",
    "- There are more than 24 IDs. Which ones are the successful audiomoths 24 clips?\n",
    "- What does it mean by the first strata layer and the second strata layer?\n",
    "- I am supposed to compress the file size, but the original file is not 4 TB but 32 MB. Am I missing data?\n",
    "- The DataFrame seems like a collection of data files. But is this the file that I am supposed to manipulate?"
   ]
  },
  {
   "cell_type": "code",
   "execution_count": 5,
   "metadata": {},
   "outputs": [
    {
     "data": {
      "text/plain": [
       "32"
      ]
     },
     "execution_count": 5,
     "metadata": {},
     "output_type": "execute_result"
    }
   ],
   "source": [
    "len(df['AudioMothCode'].unique())"
   ]
  },
  {
   "cell_type": "code",
   "execution_count": 6,
   "metadata": {},
   "outputs": [
    {
     "data": {
      "text/plain": [
       "array(['AM-1', 'AM-10', 'AM-11', 'AM-12', 'AM-13', 'AM-14', 'AM-15',\n",
       "       'AM-16', 'AM-17', 'AM-18', 'AM-2', 'AM-20', 'AM-22', 'AM-23',\n",
       "       'AM-24', 'AM-25', 'AM-26', 'AM-27', 'AM-29', 'AM-3', 'AM-30',\n",
       "       'AM-4', 'AM-5', 'AM-6', 'AM-7', 'AM-8', 'AM-9', 'WWF-1', 'WWF-2',\n",
       "       'WWF-3', 'WWF-4', 'WWF-5'], dtype=object)"
      ]
     },
     "execution_count": 6,
     "metadata": {},
     "output_type": "execute_result"
    }
   ],
   "source": [
    "df['AudioMothCode'].unique()"
   ]
  },
  {
   "cell_type": "code",
   "execution_count": 9,
   "metadata": {},
   "outputs": [
    {
     "name": "stdout",
     "output_type": "stream",
     "text": [
      "28\n"
     ]
    },
    {
     "data": {
      "text/plain": [
       "array(['243B1F055B2BEAB8', nan, '24CE97025B2BF198', '2466C2065B2BEE0D',\n",
       "       '2466C2065B2BF198', '24CE97025B2BEC15', '24CE97025B2BF156',\n",
       "       '248C7D075B2BEAB8', '24CE97025B2BF3E6', '248C7D075B2BF163',\n",
       "       '248C7D075B2BF198', '248C7D075B2BF148', '24796C035B2BF3F4',\n",
       "       '247AA5015BA446DA', '2466C2065BA44BC5', '243B1F075C79FAFC',\n",
       "       '24E144035BA455E9', '2466C2065BA446CE', '243B1F075C79F65E',\n",
       "       '247AA5015BA446E5', '24796C035B2BEE00', '248C7D075B2BF656',\n",
       "       '248C7D075B2BF1A6', '243B1F055B2BE9FA', '2466C2065B2BF148',\n",
       "       '24CE97025B2BF1F6', '243B1F055B2BF156', '243B1F055B2BF17E'],\n",
       "      dtype=object)"
      ]
     },
     "execution_count": 9,
     "metadata": {},
     "output_type": "execute_result"
    }
   ],
   "source": [
    "print(len(df['AudioMothID'].unique()))\n",
    "df['AudioMothID'].unique()"
   ]
  },
  {
   "cell_type": "code",
   "execution_count": null,
   "metadata": {},
   "outputs": [],
   "source": []
  }
 ],
 "metadata": {
  "kernelspec": {
   "display_name": "Python 3",
   "language": "python",
   "name": "python3"
  },
  "language_info": {
   "codemirror_mode": {
    "name": "ipython",
    "version": 3
   },
   "file_extension": ".py",
   "mimetype": "text/x-python",
   "name": "python",
   "nbconvert_exporter": "python",
   "pygments_lexer": "ipython3",
   "version": "3.8.3"
  }
 },
 "nbformat": 4,
 "nbformat_minor": 4
}
